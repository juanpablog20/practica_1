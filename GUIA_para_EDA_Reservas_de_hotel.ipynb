{
  "nbformat": 4,
  "nbformat_minor": 0,
  "metadata": {
    "colab": {
      "name": "GUIA_para_EDA_Reservas_de_hotel.ipynb",
      "provenance": [],
      "collapsed_sections": []
    },
    "kernelspec": {
      "name": "python3",
      "display_name": "Python 3"
    },
    "language_info": {
      "name": "python"
    }
  },
  "cells": [
    {
      "cell_type": "markdown",
      "source": [
        "# Carga de librerías y paquetes \n",
        "En esta sección usted debera cargar las librerias que considere necesarias para realizar el análisis EDA"
      ],
      "metadata": {
        "id": "8GOsx3CdvLae"
      }
    },
    {
      "cell_type": "code",
      "source": [
        "\n",
        "import pandas as pd\n",
        "import numpy as np \n"
      ],
      "metadata": {
        "id": "CD7i2Fbqvgqn"
      },
      "execution_count": 8,
      "outputs": []
    },
    {
      "cell_type": "markdown",
      "source": [
        ""
      ],
      "metadata": {
        "id": "UBrgOpxsDymQ"
      }
    },
    {
      "cell_type": "markdown",
      "source": [
        "Utilizo estas dos librerias,numpy y pandas, ya que me van a ayudar a trabajar con matrices y poder acceder a la informacion para realizar mas acciones con ella."
      ],
      "metadata": {
        "id": "BJ9sh4to07wM"
      }
    },
    {
      "cell_type": "markdown",
      "source": [
        "# Carga de dataset inicial\n",
        "En esta sección usted deberá cargar los datos de reservas de hotel en una estructura de datos que le permita realizar el EDA. Se recomienda realizar las siguientes acciones:\n",
        "\n",
        "\n",
        "* Dar un vistazo a algunos registros del Dataset\n",
        "* Conocer las dimensiones del dataset\n",
        "* Obtener información de las columnas y sus tipos de datos\n",
        "* Conocer cuantas columnas hay por los diferentes tipos\n"
      ],
      "metadata": {
        "id": "lnqowwSWvfla"
      }
    },
    {
      "cell_type": "code",
      "source": [
        "bd = pd.read_csv('hotel_bookings.csv') #Cargar base de datos\n"
      ],
      "metadata": {
        "id": "wTcJ3KT2v1gD"
      },
      "execution_count": 15,
      "outputs": []
    },
    {
      "cell_type": "code",
      "source": [
        "print(bd.head())# Ver cabeza inicial de los datos\n",
        "print(\"Dimensiones de la tabla:  \", bd.shape) #Dimensiones de la tabla\n",
        "print(bd.dtypes) #Saber los tipos de datos en las tablas\n",
        "bd.info() #Saber informacion de la tabla"
      ],
      "metadata": {
        "colab": {
          "base_uri": "https://localhost:8080/"
        },
        "outputId": "425d01a9-52c9-47f2-e989-c87cc7f9d4b8",
        "id": "IFIsCJkW2h34"
      },
      "execution_count": 24,
      "outputs": [
        {
          "output_type": "stream",
          "name": "stdout",
          "text": [
            "          hotel  is_canceled  lead_time  arrival_date_year arrival_date_month  \\\n",
            "0  Resort Hotel            0        342               2015               July   \n",
            "1  Resort Hotel            0        737               2015               July   \n",
            "2  Resort Hotel            0          7               2015               July   \n",
            "3  Resort Hotel            0         13               2015               July   \n",
            "4  Resort Hotel            0         14               2015               July   \n",
            "\n",
            "   arrival_date_week_number  arrival_date_day_of_month  \\\n",
            "0                        27                          1   \n",
            "1                        27                          1   \n",
            "2                        27                          1   \n",
            "3                        27                          1   \n",
            "4                        27                          1   \n",
            "\n",
            "   stays_in_weekend_nights  stays_in_week_nights  adults  ...  deposit_type  \\\n",
            "0                        0                     0       2  ...    No Deposit   \n",
            "1                        0                     0       2  ...    No Deposit   \n",
            "2                        0                     1       1  ...    No Deposit   \n",
            "3                        0                     1       1  ...    No Deposit   \n",
            "4                        0                     2       2  ...    No Deposit   \n",
            "\n",
            "   agent company days_in_waiting_list customer_type   adr  \\\n",
            "0    NaN     NaN                    0     Transient   0.0   \n",
            "1    NaN     NaN                    0     Transient   0.0   \n",
            "2    NaN     NaN                    0     Transient  75.0   \n",
            "3  304.0     NaN                    0     Transient  75.0   \n",
            "4  240.0     NaN                    0     Transient  98.0   \n",
            "\n",
            "   required_car_parking_spaces  total_of_special_requests  reservation_status  \\\n",
            "0                            0                          0           Check-Out   \n",
            "1                            0                          0           Check-Out   \n",
            "2                            0                          0           Check-Out   \n",
            "3                            0                          0           Check-Out   \n",
            "4                            0                          1           Check-Out   \n",
            "\n",
            "  reservation_status_date  \n",
            "0              2015-07-01  \n",
            "1              2015-07-01  \n",
            "2              2015-07-02  \n",
            "3              2015-07-02  \n",
            "4              2015-07-03  \n",
            "\n",
            "[5 rows x 32 columns]\n",
            "Dimensiones de la tabla:   (119390, 32)\n",
            "hotel                              object\n",
            "is_canceled                         int64\n",
            "lead_time                           int64\n",
            "arrival_date_year                   int64\n",
            "arrival_date_month                 object\n",
            "arrival_date_week_number            int64\n",
            "arrival_date_day_of_month           int64\n",
            "stays_in_weekend_nights             int64\n",
            "stays_in_week_nights                int64\n",
            "adults                              int64\n",
            "children                          float64\n",
            "babies                              int64\n",
            "meal                               object\n",
            "country                            object\n",
            "market_segment                     object\n",
            "distribution_channel               object\n",
            "is_repeated_guest                   int64\n",
            "previous_cancellations              int64\n",
            "previous_bookings_not_canceled      int64\n",
            "reserved_room_type                 object\n",
            "assigned_room_type                 object\n",
            "booking_changes                     int64\n",
            "deposit_type                       object\n",
            "agent                             float64\n",
            "company                           float64\n",
            "days_in_waiting_list                int64\n",
            "customer_type                      object\n",
            "adr                               float64\n",
            "required_car_parking_spaces         int64\n",
            "total_of_special_requests           int64\n",
            "reservation_status                 object\n",
            "reservation_status_date            object\n",
            "dtype: object\n",
            "<class 'pandas.core.frame.DataFrame'>\n",
            "RangeIndex: 119390 entries, 0 to 119389\n",
            "Data columns (total 32 columns):\n",
            " #   Column                          Non-Null Count   Dtype  \n",
            "---  ------                          --------------   -----  \n",
            " 0   hotel                           119390 non-null  object \n",
            " 1   is_canceled                     119390 non-null  int64  \n",
            " 2   lead_time                       119390 non-null  int64  \n",
            " 3   arrival_date_year               119390 non-null  int64  \n",
            " 4   arrival_date_month              119390 non-null  object \n",
            " 5   arrival_date_week_number        119390 non-null  int64  \n",
            " 6   arrival_date_day_of_month       119390 non-null  int64  \n",
            " 7   stays_in_weekend_nights         119390 non-null  int64  \n",
            " 8   stays_in_week_nights            119390 non-null  int64  \n",
            " 9   adults                          119390 non-null  int64  \n",
            " 10  children                        119386 non-null  float64\n",
            " 11  babies                          119390 non-null  int64  \n",
            " 12  meal                            119390 non-null  object \n",
            " 13  country                         118902 non-null  object \n",
            " 14  market_segment                  119390 non-null  object \n",
            " 15  distribution_channel            119390 non-null  object \n",
            " 16  is_repeated_guest               119390 non-null  int64  \n",
            " 17  previous_cancellations          119390 non-null  int64  \n",
            " 18  previous_bookings_not_canceled  119390 non-null  int64  \n",
            " 19  reserved_room_type              119390 non-null  object \n",
            " 20  assigned_room_type              119390 non-null  object \n",
            " 21  booking_changes                 119390 non-null  int64  \n",
            " 22  deposit_type                    119390 non-null  object \n",
            " 23  agent                           103050 non-null  float64\n",
            " 24  company                         6797 non-null    float64\n",
            " 25  days_in_waiting_list            119390 non-null  int64  \n",
            " 26  customer_type                   119390 non-null  object \n",
            " 27  adr                             119390 non-null  float64\n",
            " 28  required_car_parking_spaces     119390 non-null  int64  \n",
            " 29  total_of_special_requests       119390 non-null  int64  \n",
            " 30  reservation_status              119390 non-null  object \n",
            " 31  reservation_status_date         119390 non-null  object \n",
            "dtypes: float64(4), int64(16), object(12)\n",
            "memory usage: 29.1+ MB\n"
          ]
        }
      ]
    },
    {
      "cell_type": "markdown",
      "source": [
        "*Justificación aquí*"
      ],
      "metadata": {
        "id": "udfUIZeXD5ZS"
      }
    },
    {
      "cell_type": "markdown",
      "source": [
        "# Tratamiento de datos faltantes\n",
        "\n",
        "Es importante establecer la calidad y cantidad de registros, para ello es necesario identificar la cantidad de registros con las que se cuenta y tomar acciones sobre que hacer respecto a esos datos faltantes. Se recomienda realizar las siguientes acciones:\n",
        "\n",
        "* Identifique que columnas tienen datos faltantes\n",
        "* Haga un reporte de datos faltantes\n",
        "* Establezca una estrategia para esos datos faltantes. Se proponen tres alternativas a considerar: 1) Eliminar registros y 2) Reemplazar datos con valores por defecto y 3) Remover variables que tienen más del 25% de datos faltantes"
      ],
      "metadata": {
        "id": "tZ9tpz28v2SR"
      }
    },
    {
      "cell_type": "code",
      "source": [
        "# code here\n",
        "\n",
        "Cont = bd.isnull().sum() #Contar valores vacios\n",
        "print(Cont)\n",
        "\n",
        "Val_total = 119390\n",
        "porcentaje = (Cont/Val_total)*100 #Sacar porcentaje\n",
        "print(porcentaje)\n"
      ],
      "metadata": {
        "id": "EVDKHtX71Rkv",
        "colab": {
          "base_uri": "https://localhost:8080/"
        },
        "outputId": "d535724c-1373-4c65-f47b-39b4e491ce6d"
      },
      "execution_count": 37,
      "outputs": [
        {
          "output_type": "stream",
          "name": "stdout",
          "text": [
            "hotel                                  0\n",
            "is_canceled                            0\n",
            "lead_time                              0\n",
            "arrival_date_year                      0\n",
            "arrival_date_month                     0\n",
            "arrival_date_week_number               0\n",
            "arrival_date_day_of_month              0\n",
            "stays_in_weekend_nights                0\n",
            "stays_in_week_nights                   0\n",
            "adults                                 0\n",
            "children                               4\n",
            "babies                                 0\n",
            "meal                                   0\n",
            "country                              488\n",
            "market_segment                         0\n",
            "distribution_channel                   0\n",
            "is_repeated_guest                      0\n",
            "previous_cancellations                 0\n",
            "previous_bookings_not_canceled         0\n",
            "reserved_room_type                     0\n",
            "assigned_room_type                     0\n",
            "booking_changes                        0\n",
            "deposit_type                           0\n",
            "agent                              16340\n",
            "company                           112593\n",
            "days_in_waiting_list                   0\n",
            "customer_type                          0\n",
            "adr                                    0\n",
            "required_car_parking_spaces            0\n",
            "total_of_special_requests              0\n",
            "reservation_status                     0\n",
            "reservation_status_date                0\n",
            "dtype: int64\n",
            "hotel                              0.000000\n",
            "is_canceled                        0.000000\n",
            "lead_time                          0.000000\n",
            "arrival_date_year                  0.000000\n",
            "arrival_date_month                 0.000000\n",
            "arrival_date_week_number           0.000000\n",
            "arrival_date_day_of_month          0.000000\n",
            "stays_in_weekend_nights            0.000000\n",
            "stays_in_week_nights               0.000000\n",
            "adults                             0.000000\n",
            "children                           0.003350\n",
            "babies                             0.000000\n",
            "meal                               0.000000\n",
            "country                            0.408744\n",
            "market_segment                     0.000000\n",
            "distribution_channel               0.000000\n",
            "is_repeated_guest                  0.000000\n",
            "previous_cancellations             0.000000\n",
            "previous_bookings_not_canceled     0.000000\n",
            "reserved_room_type                 0.000000\n",
            "assigned_room_type                 0.000000\n",
            "booking_changes                    0.000000\n",
            "deposit_type                       0.000000\n",
            "agent                             13.686238\n",
            "company                           94.306893\n",
            "days_in_waiting_list               0.000000\n",
            "customer_type                      0.000000\n",
            "adr                                0.000000\n",
            "required_car_parking_spaces        0.000000\n",
            "total_of_special_requests          0.000000\n",
            "reservation_status                 0.000000\n",
            "reservation_status_date            0.000000\n",
            "dtype: float64\n"
          ]
        }
      ]
    },
    {
      "cell_type": "code",
      "source": [
        "del(bd['company']) #Eliminar la columnna company\n",
        "bd = bd.dropna(subset=[\"agent\"])#Eliminar las filas con los datos faltante de dato agent"
      ],
      "metadata": {
        "id": "UvBvU_JI9sPf"
      },
      "execution_count": null,
      "outputs": []
    },
    {
      "cell_type": "markdown",
      "source": [
        "*Justificación aquí*"
      ],
      "metadata": {
        "id": "34YgBZ_vD6fT"
      }
    },
    {
      "cell_type": "markdown",
      "source": [
        "# Nuevas variables\n",
        "En ocaciones pueden establecer nuevas variables a partir de unas existentes, esto se puede realizar para facilitar procesos de análisis posteriores. Se recomienda realizar las siguientes acciones:\n",
        "\n",
        "* Identificar si en la reserva hay alguna clase de niño\n",
        "* Convertir nombre del mes en valor númerico"
      ],
      "metadata": {
        "id": "0te6NeJP1vv3"
      }
    },
    {
      "cell_type": "code",
      "source": [
        "# code here\n",
        "res = bd.eval('sum = children + babies') #Evaluar y sumar las columnas children y babies\n",
        "res[res['sum']>0][['babies','children','sum']] #Mostrar las columnas que niño sea mayor a cero\n",
        "bd['arrival_date_month'].replace(['January', 'February', 'March', 'April', 'May', 'June', 'July','August','September','October','November','December'],['1', '2', '3', '4', '5', '6','7','8','9','10','11','12'])"
      ],
      "metadata": {
        "id": "lLiDD8Nw3XF4",
        "colab": {
          "base_uri": "https://localhost:8080/"
        },
        "outputId": "3c2447ba-ab28-4551-d01d-a1348db9db88"
      },
      "execution_count": 39,
      "outputs": [
        {
          "output_type": "execute_result",
          "data": {
            "text/plain": [
              "0         7\n",
              "1         7\n",
              "2         7\n",
              "3         7\n",
              "4         7\n",
              "         ..\n",
              "119385    8\n",
              "119386    8\n",
              "119387    8\n",
              "119388    8\n",
              "119389    8\n",
              "Name: arrival_date_month, Length: 119390, dtype: object"
            ]
          },
          "metadata": {},
          "execution_count": 39
        }
      ]
    },
    {
      "cell_type": "markdown",
      "source": [
        "Utilizamos el metodo eval para evaluar y sumar los datos que sean babies y children y luego mostrar los que sea mayores que 0\n",
        "Y con el metodo replace lo que hacemos es tomar los valores de la columna arrival date month, le pasamos los valores que queremos remplazar y luego en el mismo orden le pasamos las datos por lo que lo vamos a remplazar\n",
        "\n",
        "---\n",
        "\n"
      ],
      "metadata": {
        "id": "qiml04kMD7fL"
      }
    },
    {
      "cell_type": "markdown",
      "source": [
        "# Identificación de metas y objetivos\n",
        "\n",
        "Lo más importante en un proyecto es siempre identificar que se quiere realizar con los datos. Por ello es importante establecer una variable objetivo y las variables independientes. En este ejercicio se recomienda lo siguiente:\n",
        "\n",
        "* Escoger como variable objetivo las cancelaciones\n",
        "* Escoger como variables independientes el resto de columnas"
      ],
      "metadata": {
        "id": "aly2TP_a3X3t"
      }
    },
    {
      "cell_type": "code",
      "source": [
        "# code here"
      ],
      "metadata": {
        "id": "sxpa_M5F8Wng"
      },
      "execution_count": null,
      "outputs": []
    },
    {
      "cell_type": "markdown",
      "source": [
        "*Justificación aquí*"
      ],
      "metadata": {
        "id": "Yt44wnBED8a7"
      }
    },
    {
      "cell_type": "markdown",
      "source": [
        "# Exploración de datos (#1 - Outliers)\n",
        "\n",
        "Siempre es bueno dar un vistazo a los datos y ver como están distribuidas algunas variables. Con esto se puede establecer si hay datos que puedan generar mucho ruido en el análisis y que acciones seguir. Para esto se recomienda:\n",
        "\n",
        "* Ver la distribucción de las variables\n",
        "* Identificar outliers\n",
        "* Tomar una decision de si se deben remover esos registros o si se van a conservar"
      ],
      "metadata": {
        "id": "5mq87M0H5OYj"
      }
    },
    {
      "cell_type": "code",
      "source": [
        "bd.hist() #Mostrar grafico con los datos"
      ],
      "metadata": {
        "id": "YFKRt8qT5M_9",
        "colab": {
          "base_uri": "https://localhost:8080/",
          "height": 646
        },
        "outputId": "679244b1-02e3-438a-ae92-5290f2b42271"
      },
      "execution_count": 40,
      "outputs": [
        {
          "output_type": "execute_result",
          "data": {
            "text/plain": [
              "array([[<matplotlib.axes._subplots.AxesSubplot object at 0x7f048f6781d0>,\n",
              "        <matplotlib.axes._subplots.AxesSubplot object at 0x7f048f754cd0>,\n",
              "        <matplotlib.axes._subplots.AxesSubplot object at 0x7f048f58f690>,\n",
              "        <matplotlib.axes._subplots.AxesSubplot object at 0x7f048f544c90>],\n",
              "       [<matplotlib.axes._subplots.AxesSubplot object at 0x7f048f5082d0>,\n",
              "        <matplotlib.axes._subplots.AxesSubplot object at 0x7f048f4bd8d0>,\n",
              "        <matplotlib.axes._subplots.AxesSubplot object at 0x7f048f473e90>,\n",
              "        <matplotlib.axes._subplots.AxesSubplot object at 0x7f048f436490>],\n",
              "       [<matplotlib.axes._subplots.AxesSubplot object at 0x7f048f436510>,\n",
              "        <matplotlib.axes._subplots.AxesSubplot object at 0x7f048f3eeb90>,\n",
              "        <matplotlib.axes._subplots.AxesSubplot object at 0x7f048f366750>,\n",
              "        <matplotlib.axes._subplots.AxesSubplot object at 0x7f048f31bd50>],\n",
              "       [<matplotlib.axes._subplots.AxesSubplot object at 0x7f048f2e0390>,\n",
              "        <matplotlib.axes._subplots.AxesSubplot object at 0x7f048f315990>,\n",
              "        <matplotlib.axes._subplots.AxesSubplot object at 0x7f048f2cef90>,\n",
              "        <matplotlib.axes._subplots.AxesSubplot object at 0x7f048f2905d0>],\n",
              "       [<matplotlib.axes._subplots.AxesSubplot object at 0x7f048f247bd0>,\n",
              "        <matplotlib.axes._subplots.AxesSubplot object at 0x7f048f20a210>,\n",
              "        <matplotlib.axes._subplots.AxesSubplot object at 0x7f048f1c0810>,\n",
              "        <matplotlib.axes._subplots.AxesSubplot object at 0x7f048f557550>]],\n",
              "      dtype=object)"
            ]
          },
          "metadata": {},
          "execution_count": 40
        },
        {
          "output_type": "display_data",
          "data": {
            "text/plain": [
              "<Figure size 432x288 with 20 Axes>"
            ],
            "image/png": "[encoded data removed]"
          },
          "metadata": {
            "needs_background": "light"
          }
        }
      ]
    },
    {
      "cell_type": "markdown",
      "source": [
        "Utilizamos el metodo hist para mostrar las graficas de los datos, y segun lo analizado de ella la columna children y adults por que tiene variables de valores muy altos"
      ],
      "metadata": {
        "id": "5HMI2hZYD9QD"
      }
    },
    {
      "cell_type": "markdown",
      "source": [
        "# Exploración de datos (#2 - Análisis univariado)\n",
        "\n",
        "Ya que se tiene una idea mejor de como estan organizados los datos, es hora de iniciar a realizar diferentes tipos de análisis exploratorios, dependiendo del tipo de información que estemos manejando. Para esto se recomienda:\n",
        "\n",
        "* Separe las variables por tipo de datos\n",
        "* Identifique el número de categorias por cada variable cualitativas\n",
        "* Realice un resumen de datos con la variables cuantitativas"
      ],
      "metadata": {
        "id": "CtF_ZIFs8ZBR"
      }
    },
    {
      "cell_type": "code",
      "source": [
        "# code here"
      ],
      "metadata": {
        "id": "gPbNCAhu-txk"
      },
      "execution_count": null,
      "outputs": []
    },
    {
      "cell_type": "markdown",
      "source": [
        "*Justificación aquí*"
      ],
      "metadata": {
        "id": "ym1cAs2MD-M7"
      }
    },
    {
      "cell_type": "markdown",
      "source": [
        "# Exploración de datos (#3 - Comparación de variables)\n",
        "\n",
        "Ya se tienen un objetivo en mente, ahora hay que analizar ese objetivo como se relaciona con las demás variables. En este momento se debe iniciar a comparar la variable objetivo respecto a las demás. Se recomienda realizar lo siguiente:\n",
        "\n",
        "* Compare las variable cuantitativas vs la variable objetivo. \n",
        "* Compare los datos cualitativos vs la variable objetivo. \n",
        "\n",
        "Para ambos puntos se recomienda colocar el promedio de la variable objetivo para ver que tan alejados están los datos de la media y la varianza. "
      ],
      "metadata": {
        "id": "DPHCI-0hBgPT"
      }
    },
    {
      "cell_type": "code",
      "source": [
        "# code here"
      ],
      "metadata": {
        "id": "IORFZP-DDtgb"
      },
      "execution_count": null,
      "outputs": []
    },
    {
      "cell_type": "markdown",
      "source": [
        "*Justificación aquí*"
      ],
      "metadata": {
        "id": "Sta2o3gaD_e8"
      }
    },
    {
      "cell_type": "markdown",
      "source": [
        "# Exploración de datos (#4 - Preguntas adicionales)\n",
        "\n",
        "Es normal que nos surjan algunas preguntas que puedan ser de interes general para el proyecto y que paralelamente ayuden a tener una mejor idea de la información que estamos manejando. Una forma de generar preguntas interesantes es cuando comparamos variables entre ellas. Se recomienda realizar lo siguiente:\n",
        "\n",
        "* Identificar país de origen de los huespedes\n",
        "* Identificar la segmenteación de los huespedes y tipo de hospedaje\n",
        "* Identificar visitantes con niños\n",
        "* Identificar mes que tiene más visitantes. En este caso es bueno identificar los que vienen con niños, sin niños y totales.\n",
        "* Cuantos huespedes repiten y que tipo de hospedaje\n",
        "* Identificar cuantos usan el parqueadero\n",
        "* Identificar los canales por los cuales se hacen reservas\n",
        "\n",
        "NOTA: No se limite a esos no más, deje volar su imaginación"
      ],
      "metadata": {
        "id": "6b9o6Isr-8Z5"
      }
    },
    {
      "cell_type": "code",
      "source": [
        "# code here"
      ],
      "metadata": {
        "id": "e8_ye_pVBYk2"
      },
      "execution_count": null,
      "outputs": []
    },
    {
      "cell_type": "markdown",
      "source": [
        "*Justificación aquí*"
      ],
      "metadata": {
        "id": "a7gqxv98EAu6"
      }
    }
  ]
}